{
 "cells": [
  {
   "cell_type": "markdown",
   "id": "2663971e",
   "metadata": {},
   "source": [
    "# 2. Regression\n",
    "\n",
    "This notebook is about regression, especially linear regression and logistic regression in ML using PyTorch."
   ]
  },
  {
   "cell_type": "markdown",
   "id": "fe752cf0",
   "metadata": {},
   "source": [
    "**Table of Contents**\n",
    "\n",
    "* [**Regression**](#Regression)\n",
    "\n",
    "* **2.1.** [**Linear Regression**](#2.1.-Linear-Regression)\n",
    "    \n",
    "* **2.2.** [**Logistic Regression**](#2.2.-Logistic-Regression)"
   ]
  },
  {
   "cell_type": "markdown",
   "id": "9f35976f",
   "metadata": {},
   "source": [
    "## Regression\n",
    "\n",
    "회귀는 ML에서 원초적인 알고리즘 중 하나이다. \n",
    "\n",
    "독립변수(다른 변수에 종속되지 않고 독립적으로 변하고, 다른 변수의 값을 결정하는 변수; 연구자가 의도적으로 변화시키는 변수)와 \n",
    "\n",
    "종속변수(독립변수에 의해 결정되는 변수; 연구자가 독립변수의 변화에 따라 어떻게 변하는지 알고 싶어하는 변수) 사이의 관계를 분석하는 방법이다. \n",
    "\n",
    "![image](https://user-images.githubusercontent.com/88715406/178408334-9ac6b74e-6cb0-4ef1-8876-4dd93f75d2fe.png)"
   ]
  },
  {
   "cell_type": "markdown",
   "id": "d8513284",
   "metadata": {},
   "source": [
    "전체적인 과정의 흐름은\n",
    "\n",
    "1) 가설 (hypothesis)를 세운 후\n",
    "\n",
    "2) cost (=loss)를 통해 가설이 얼마나 틀렸는지를 판단하여\n",
    "\n",
    "3) cost를 줄이는 방향으로 다시 가설 설립한다.\n",
    "\n",
    "이때 주로 사용하는 방법이 gradient descent이다."
   ]
  },
  {
   "cell_type": "markdown",
   "id": "e9d4d28c",
   "metadata": {},
   "source": [
    "### 2.1. Linear Regression\n",
    "\n",
    "종속 변수 Y와 1개 이상의 독립변수 X에 대해 선형 (Linear) 상관 관계를 모델링하는 회귀분석이다. \n",
    "\n",
    "이 튜토리얼에서는 torch 라이브러리에서 nn (Neural Network의 약자로, Deep Learning의 신경망의 모든 것을 포괄하는 라이브러리다.)을 import하여, nn.Linear class를 사용해 학습을 진행한다. "
   ]
  },
  {
   "cell_type": "markdown",
   "id": "e90bb63f",
   "metadata": {},
   "source": [
    "* **Data**\n",
    "|       | **x** |   **y**   |\n",
    "|-------|:-----:|:---------:|\n",
    "| **0** |   1   | 1.6193786 |\n",
    "| **1** |   2   | 1.8572904 |\n",
    "| **2** |   3   | 2.6281943 |\n",
    "| **3** |   4   | 2.7254255 |\n",
    "| **4** |   5   |  3.498926 |\n",
    "| **5** |   6   | 3.8670416 |\n",
    "| **6** |   7   |  4.934539 |\n",
    "| **7** |   8   | 4.8648295 |\n",
    "| **8** |   9   |  5.241539 |\n",
    "| **9** |   10  |  5.823689 |\n",
    "\n",
    "(이 데이터들은 아래와 같은 코드로 랜덤 생성 가능하다.)\n",
    "\n",
    "~~~\n",
    "x = torch.arange(1, 11, dtype=torch.float).unsqueeze(dim=1)\n",
    "y = x / 2 + 1 + torch.randn(10).unsqueeze(dim=1) / 5\n",
    "\n",
    "data = torch.cat((x, y), dim=1)\n",
    "data = pd.DataFrame(data.numpy())\n",
    "\n",
    "data.to_csv('data/02_Logistic_Regression_Model_Data.csv', header=['x', 'y'])\n",
    "~~~"
   ]
  },
  {
   "cell_type": "code",
   "execution_count": 1,
   "id": "fa632c75",
   "metadata": {},
   "outputs": [],
   "source": [
    "# Imports \n",
    "import torch \n",
    "from torch import nn\n",
    "import numpy as np\n",
    "import matplotlib.pyplot as plt\n",
    "import pandas as pd"
   ]
  },
  {
   "cell_type": "code",
   "execution_count": 2,
   "id": "8dfb089b",
   "metadata": {},
   "outputs": [
    {
     "name": "stdout",
     "output_type": "stream",
     "text": [
      "0     1.0\n",
      "1     2.0\n",
      "2     3.0\n",
      "3     4.0\n",
      "4     5.0\n",
      "5     6.0\n",
      "6     7.0\n",
      "7     8.0\n",
      "8     9.0\n",
      "9    10.0\n",
      "Name: x, dtype: float64\n",
      "[ 1.  2.  3.  4.  5.  6.  7.  8.  9. 10.]\n",
      "tensor([[ 1.],\n",
      "        [ 2.],\n",
      "        [ 3.],\n",
      "        [ 4.],\n",
      "        [ 5.],\n",
      "        [ 6.],\n",
      "        [ 7.],\n",
      "        [ 8.],\n",
      "        [ 9.],\n",
      "        [10.]])\n"
     ]
    }
   ],
   "source": [
    "# Load the Data\n",
    "data = pd.read_csv('data/02_Linear_Regression_Model_Data.csv')\n",
    "print(data['x'])\n",
    "\n",
    "print(data['x'].values)\n",
    "\n",
    "x = torch.from_numpy(data['x'].values)\n",
    "x = x.unsqueeze(dim=1).float()\n",
    "print(x)\n",
    "\n",
    "y = torch.from_numpy(data['y'].values).unsqueeze(dim=1).float()"
   ]
  },
  {
   "cell_type": "code",
   "execution_count": 3,
   "id": "aaacb31a",
   "metadata": {},
   "outputs": [
    {
     "data": {
      "image/png": "[encoded data removed]",
      "text/plain": [
       "<Figure size 432x288 with 1 Axes>"
      ]
     },
     "metadata": {
      "needs_background": "light"
     },
     "output_type": "display_data"
    }
   ],
   "source": [
    "# Plot the data\n",
    "plt.xlim(0, 11)\n",
    "plt.ylim(0, 8)\n",
    "plt.title('Dataset')\n",
    "plt.scatter(x, y)\n",
    "\n",
    "plt.show()"
   ]
  },
  {
   "cell_type": "markdown",
   "id": "eab6fe4c",
   "metadata": {},
   "source": [
    "* **Linear Regression (Define Model)**\n",
    "\n",
    "독립 변수 X와 bias로 Y의 선형 모델을 세운다. \n"
   ]
  },
  {
   "cell_type": "code",
   "execution_count": 4,
   "id": "4c469f7c",
   "metadata": {},
   "outputs": [
    {
     "name": "stdout",
     "output_type": "stream",
     "text": [
      "Model: Linear(in_features=1, out_features=1, bias=True)\n",
      "Weight: Parameter containing:\n",
      "tensor([[0.4063]], requires_grad=True)\n",
      "Bias: Parameter containing:\n",
      "tensor([0.6465], requires_grad=True)\n"
     ]
    }
   ],
   "source": [
    "model = nn.Linear(in_features=1, out_features=1, bias=True) # dim 1 -> dim 1인 선형 모델 정의\n",
    "\n",
    "print(\"Model:\", model)\n",
    "print(\"Weight:\",model.weight)\n",
    "print(\"Bias:\",model.bias)"
   ]
  },
  {
   "cell_type": "markdown",
   "id": "ffa919aa",
   "metadata": {},
   "source": [
    "* **Set Loss function(creterion) and Optimizer**\n",
    "\n",
    "적절한 모델을 선정할 때와 마찬가지로 loss function과 optimizer를 결정하는 것은 학습 속도와 성능을 결정짓는 중요한 부분이다. \n",
    "\n",
    "간단한 모델이므로, 임의로 SGD optimizer를 선택하도록 한다. \n",
    "\n",
    "$MSE = \\frac{1}{N}\\sum_{n=1}^{N} (\\widehat{y_n} - y_n)^2$"
   ]
  },
  {
   "cell_type": "code",
   "execution_count": 5,
   "id": "2b441fd5",
   "metadata": {},
   "outputs": [
    {
     "name": "stdout",
     "output_type": "stream",
     "text": [
      "tensor([[1.0528],\n",
      "        [1.4591],\n",
      "        [1.8653],\n",
      "        [2.2716],\n",
      "        [2.6779],\n",
      "        [3.0842],\n",
      "        [3.4904],\n",
      "        [3.8967],\n",
      "        [4.3030],\n",
      "        [4.7092]], grad_fn=<AddmmBackward0>)\n"
     ]
    }
   ],
   "source": [
    "criterion = nn.MSELoss()\n",
    "optimizer = torch.optim.SGD(params=model.parameters(), lr=0.01)\n",
    "\n",
    "print(model(x)) # forward, Wx + b"
   ]
  },
  {
   "cell_type": "markdown",
   "id": "ffc64310",
   "metadata": {},
   "source": [
    "* **Train the Model**"
   ]
  },
  {
   "cell_type": "code",
   "execution_count": 6,
   "id": "95ca5825",
   "metadata": {},
   "outputs": [
    {
     "name": "stdout",
     "output_type": "stream",
     "text": [
      "0 step: 0.7700192332267761\n",
      "100 step: 0.05421854183077812\n",
      "200 step: 0.04647984355688095\n",
      "300 step: 0.04314452037215233\n",
      "400 step: 0.041707031428813934\n"
     ]
    }
   ],
   "source": [
    "for step in range(500):\n",
    "    prediction = model(x) # forward pass: compute predicted yy by passing x to the model\n",
    "    \n",
    "    loss = criterion(input=prediction, target=y) # compute and print loss\n",
    "    \n",
    "    if step % 100 == 0:\n",
    "        print(\"{} step: {}\".format(step, loss.item())) # item(): 1x1 tensor -> number \n",
    "        \n",
    "    optimizer.zero_grad() # to avoid accumulation of grads\n",
    "    loss.backward() # compute the gradient\n",
    "    optimizer.step() # update the parameter"
   ]
  },
  {
   "cell_type": "markdown",
   "id": "521475ab",
   "metadata": {},
   "source": [
    "* **Visualize Results**\n",
    "\n",
    "prediction은 grad를 포함한 torch.tensor임을 유의한다. "
   ]
  },
  {
   "cell_type": "code",
   "execution_count": 7,
   "id": "10b95e33",
   "metadata": {},
   "outputs": [
    {
     "data": {
      "image/png": "[encoded data removed]",
      "text/plain": [
       "<Figure size 432x288 with 1 Axes>"
      ]
     },
     "metadata": {
      "needs_background": "light"
     },
     "output_type": "display_data"
    }
   ],
   "source": [
    "def display_results(model, x, y):\n",
    "    prediction = model(x)\n",
    "    loss = criterion(input=prediction, target=y)\n",
    "    \n",
    "    plt.xlim(0, 11);    plt.ylim(0, 8)\n",
    "    plt.scatter(x, y) \n",
    "    plt.plot(x, prediction.data.numpy(), 'b--')\n",
    "    plt.title('loss={:.4}, w={:.4}, b={:.4}'.format(loss.item(), model.weight.item(), model.bias.item()))\n",
    "    plt.show()\n",
    "    \n",
    "display_results(model, x, y)"
   ]
  },
  {
   "attachments": {},
   "cell_type": "markdown",
   "id": "6cadcad8",
   "metadata": {},
   "source": [
    "### 2.2. Logistic Regression\n",
    "\n",
    "종속 변수인 Y가 범주형(categorical) 변수일 때 사용하는 회귀분석. \n",
    "\n",
    "예를 들어, 합격과 불합격, 승리와 패배, 발병과 정상 등 종속 변수 Y가 중간 범주가 없는 separable할 경우, 선형 회귀를 사용할 수 없게 된다.\n",
    "\n",
    "![image](https://user-images.githubusercontent.com/88715406/178423993-87b3b7de-874d-4e36-9cbd-e21ff8c225b7.png)\n",
    "\n",
    "이때, 선형 모델의 output에 logistic 함수 (sigmoid)를 추가하여 모델링을 할 수 있다. 이를 Logistic 회귀라고 한다. \n",
    "\n",
    "![image](https://user-images.githubusercontent.com/88715406/178425271-f0ca7b41-53d3-443e-9b75-0e3c9addbc8e.png)\n",
    "\n",
    "(Logistic 회귀는 일종의 classification으로도 볼 수 있다.)\n",
    "\n",
    "이 튜토리얼에서는 간단한 dataset을 이용한 Binary (0 or 1) logistic regression을 구현해본다. "
   ]
  },
  {
   "cell_type": "markdown",
   "id": "bb8aceeb",
   "metadata": {},
   "source": [
    "* **Data**\n",
    "|       | **x** |   **y**   |\n",
    "|-------|:-----:|:---------:|\n",
    "| **0** |   1   | 0 |\n",
    "| **1** |   2   | 0 |\n",
    "| **2** |   3   | 0 |\n",
    "| **3** |   4   | 0 |\n",
    "| **4** |   5   |  0 |\n",
    "| **5** |   6   | 1 |\n",
    "| **6** |   7   |  1 |\n",
    "| **7** |   8   | 1 |\n",
    "| **8** |   9   |  1 |\n",
    "| **9** |   10  |  1 |\n",
    "\n",
    "(이 데이터들은 아래와 같은 코드로 랜덤 생성 가능하다.)\n",
    "\n",
    "~~~\n",
    "x = torch.arange(1, 11, dtype=torch.float).unsqueeze(dim=1)\n",
    "y = torch.gt((x / 2 + 1 + torch.randn(10).unsqueeze(dim=1) / 5), 4).float()\n",
    "\n",
    "data = torch.cat((x, y), dim=1)\n",
    "data = pd.DataFrame(data.numpy())\n",
    "\n",
    "data.to_csv('data/02_Logistic_Regression_Model_Data.csv', header=['x', 'y'])\n",
    "~~~"
   ]
  },
  {
   "cell_type": "code",
   "execution_count": 8,
   "id": "d522f78a",
   "metadata": {},
   "outputs": [
    {
     "data": {
      "image/png": "[encoded data removed]",
      "text/plain": [
       "<Figure size 432x288 with 1 Axes>"
      ]
     },
     "metadata": {
      "needs_background": "light"
     },
     "output_type": "display_data"
    }
   ],
   "source": [
    "# Load the Data\n",
    "data = pd.read_csv('data/02_Logistic_Regression_Model_Data.csv')\n",
    "x = torch.from_numpy(data['x'].values).unsqueeze(dim=1).float()\n",
    "y = torch.from_numpy(data['y'].values).unsqueeze(dim=1).float()\n",
    "\n",
    "# Plot the data\n",
    "plt.xlim(0, 11)\n",
    "plt.ylim(0, 1)\n",
    "plt.title('Dataset')\n",
    "plt.scatter(x, y)\n",
    "\n",
    "plt.show()"
   ]
  },
  {
   "cell_type": "markdown",
   "id": "cd4c1084",
   "metadata": {},
   "source": [
    "* **Logistic Regression (Define Model)**\n",
    "\n",
    "nn.Module 층을 차례대로 쌓을 수 있도록 해주는 nn.Sequential()을 이용해, 선형 모델과 sigmoid를 결합한 모델을 만들어준다. \n",
    "\n",
    "![image](https://user-images.githubusercontent.com/88715406/178416538-8841af04-993c-4b15-baa0-ca67b7d2d706.png)"
   ]
  },
  {
   "cell_type": "code",
   "execution_count": 9,
   "id": "002f8780",
   "metadata": {},
   "outputs": [
    {
     "name": "stdout",
     "output_type": "stream",
     "text": [
      "Model: Sequential(\n",
      "  (0): Linear(in_features=1, out_features=1, bias=True)\n",
      "  (1): Sigmoid()\n",
      ")\n"
     ]
    }
   ],
   "source": [
    "model =  nn.Sequential(\n",
    "   nn.Linear(in_features=1, out_features=1, bias=True), # dim 1 -> dim 1인 선형 모델 정의\n",
    "   nn.Sigmoid() # 출력은 sigmoid 함수를 거친다\n",
    ")\n",
    "\n",
    "print(\"Model:\", model)"
   ]
  },
  {
   "cell_type": "markdown",
   "id": "a0944ab4",
   "metadata": {},
   "source": [
    "* **Set Loss function(creterion) and Optimizer**\n",
    "\n",
    "Linear Regression에서 MSE를 cost function으로 사용하였는데, sigmoid를 사용할 경우 MSE에 문제점이 발생한다. \n",
    "\n",
    "$MSE = \\frac{1}{N}\\sum_{n=1}^{N} (\\sigma(z = Wx + b) - y_n)^2$\n",
    "\n",
    "이를 미분하면, 미분값에 $\\sigma(z)'$이 곱해지게 되는데, 함수의 개형을 보면 알 수 있듯이 $z$가 너무 크거나 작을 경우 미분값이 급격하게 0에 수렴한다. (**vanishing gradient problem of sigmoid**)\n",
    "\n",
    "이런 문제 때문에 Logistic 회귀 뿐만 아니라 신경망 학습 등에서도 MSE function 대신 Cross Entropy function을 더 활발하게 사용한다. \n",
    "\n",
    "$BCE = - \\frac{1}{N}\\sum_{n=1}^{N} y_n \\mathrm{log}(\\widehat{y}_n) + (1-y_n) \\mathrm{log}(1-\\widehat{y}_n)$"
   ]
  },
  {
   "cell_type": "code",
   "execution_count": 10,
   "id": "ab8ec3b8",
   "metadata": {},
   "outputs": [
    {
     "name": "stdout",
     "output_type": "stream",
     "text": [
      "tensor([[0.6653],\n",
      "        [0.8114],\n",
      "        [0.9031],\n",
      "        [0.9528],\n",
      "        [0.9776],\n",
      "        [0.9895],\n",
      "        [0.9951],\n",
      "        [0.9977],\n",
      "        [0.9990],\n",
      "        [0.9995]], grad_fn=<SigmoidBackward0>)\n"
     ]
    }
   ],
   "source": [
    "criterion = nn.BCELoss() # Binary Logistic Regression이므로 binary cross entropy 사용\n",
    "optimizer = torch.optim.Adam(params=model.parameters(), lr=0.1)\n",
    "\n",
    "print(model(x)) # forward, sigmoid(Wx + b)"
   ]
  },
  {
   "cell_type": "markdown",
   "id": "64f86e66",
   "metadata": {},
   "source": [
    "* **Train the Model**"
   ]
  },
  {
   "cell_type": "code",
   "execution_count": 11,
   "id": "bfe5cf51",
   "metadata": {},
   "outputs": [
    {
     "name": "stdout",
     "output_type": "stream",
     "text": [
      "0 step: 1.1967670917510986\n",
      "100 step: 0.17689546942710876\n",
      "200 step: 0.11801137775182724\n",
      "300 step: 0.09239517897367477\n",
      "400 step: 0.07693170011043549\n",
      "500 step: 0.06613761186599731\n",
      "600 step: 0.057965267449617386\n",
      "700 step: 0.051454413682222366\n",
      "800 step: 0.046086687594652176\n",
      "900 step: 0.04155372083187103\n"
     ]
    }
   ],
   "source": [
    "for step in range(1000):\n",
    "    prediction = model(x) # forward pass: compute predicted yy by passing x to the model\n",
    "    \n",
    "    loss = criterion(input=prediction, target=y) # compute and print loss\n",
    "    \n",
    "    if step % 100 == 0:\n",
    "        print(\"{} step: {}\".format(step, loss.item())) # item(): 1x1 tensor -> number \n",
    "        \n",
    "    optimizer.zero_grad() # to avoid accumulation of grads\n",
    "    loss.backward() # compute the gradient\n",
    "    optimizer.step() # update the parameter"
   ]
  },
  {
   "cell_type": "markdown",
   "id": "ffdb7037",
   "metadata": {},
   "source": [
    "* **Visualize Results**"
   ]
  },
  {
   "cell_type": "code",
   "execution_count": 13,
   "id": "e0269f40",
   "metadata": {},
   "outputs": [
    {
     "data": {
      "image/png": "[encoded data removed]",
      "text/plain": [
       "<Figure size 432x288 with 1 Axes>"
      ]
     },
     "metadata": {
      "needs_background": "light"
     },
     "output_type": "display_data"
    }
   ],
   "source": [
    "def display_results(model, x, y):\n",
    "    prediction = model(x)\n",
    "    loss = criterion(input=prediction, target=y)\n",
    "    \n",
    "    plt.xlim(0, 11);    plt.ylim(0, 1)\n",
    "    plt.scatter(x, y) \n",
    "    plt.plot(x, prediction.data.numpy(), 'b--')\n",
    "    plt.title('loss={:.4}'.format(loss.item()))\n",
    "    plt.show()\n",
    "    \n",
    "display_results(model, x, y)"
   ]
  }
 ],
 "metadata": {
  "kernelspec": {
   "display_name": "Python 3 (ipykernel)",
   "language": "python",
   "name": "python3"
  },
  "language_info": {
   "codemirror_mode": {
    "name": "ipython",
    "version": 3
   },
   "file_extension": ".py",
   "mimetype": "text/x-python",
   "name": "python",
   "nbconvert_exporter": "python",
   "pygments_lexer": "ipython3",
   "version": "3.10.5"
  }
 },
 "nbformat": 4,
 "nbformat_minor": 5
}
